{
 "cells": [
  {
   "cell_type": "code",
   "execution_count": null,
   "id": "12e04120-83ec-41b0-a09a-d8af17d4dc0e",
   "metadata": {},
   "outputs": [],
   "source": [
    "import pandas as pd\n",
    "\n",
    "train_data = pd.read_csv('research-articles-dataset/train.csv').sample(frac=1)\n",
    "test_data = pd.read_csv('research-articles-dataset/test.csv').sample(frac=1)"
   ]
  },
  {
   "cell_type": "code",
   "execution_count": null,
   "id": "e65fe24b-9ca7-4731-9835-0a34efe2888b",
   "metadata": {},
   "outputs": [],
   "source": [
    "from sklearn.feature_extraction.text import CountVectorizer, TfidfVectorizer\n",
    "\n",
    "vocab_size = 20000\n",
    "\n",
    "bow_featurizer = CountVectorizer(max_features=vocab_size, \n",
    "                                 max_df=0.95, \n",
    "                                 min_df=0.002, \n",
    "                                 stop_words='english')\n",
    "tfidf_featurizer = TfidfVectorizer(max_features=vocab_size, \n",
    "                                   max_df=0.95, \n",
    "                                   stop_words='english')\n",
    "X_bow = bow_featurizer.fit_transform(train_data)\n",
    "X_tfidf = tfidf_featurizer.fit_transform(train_data)"
   ]
  },
  {
   "cell_type": "code",
   "execution_count": null,
   "id": "864c0489",
   "metadata": {},
   "outputs": [],
   "source": [
    "# X_bow is of course sparse\n",
    "X_bow.todense()"
   ]
  },
  {
   "cell_type": "code",
   "execution_count": null,
   "id": "4f192777",
   "metadata": {},
   "outputs": [],
   "source": [
    "# Importantly, TF-IDF is also still sparse\n",
    "X_tfidf.todense()"
   ]
  }
 ],
 "metadata": {
  "kernelspec": {
   "display_name": "Python 3.9.12 ('ml-base')",
   "language": "python",
   "name": "python3"
  },
  "language_info": {
   "codemirror_mode": {
    "name": "ipython",
    "version": 3
   },
   "file_extension": ".py",
   "mimetype": "text/x-python",
   "name": "python",
   "nbconvert_exporter": "python",
   "pygments_lexer": "ipython3",
   "version": "3.9.12"
  },
  "vscode": {
   "interpreter": {
    "hash": "aaf90f38dd02d397fb672f3eedea9f67f57967a2a80a762c925841e1b54a5d86"
   }
  }
 },
 "nbformat": 4,
 "nbformat_minor": 5
}
